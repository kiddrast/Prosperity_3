{
 "cells": [
  {
   "cell_type": "markdown",
   "id": "fd57df24",
   "metadata": {},
   "source": [
    "# Exchange rates"
   ]
  },
  {
   "cell_type": "code",
   "execution_count": 8,
   "id": "7b563c38",
   "metadata": {},
   "outputs": [
    {
     "name": "stdout",
     "output_type": "stream",
     "text": [
      "                 Snowballs  Pizza's  Silicon Nuggets  SeaShells\n",
      "Snowballs             1.00     1.45             0.52       0.72\n",
      "Pizza's               0.70     1.00             0.31       0.48\n",
      "Silicon Nuggets       1.95     3.10             1.00       1.49\n",
      "SeaShells             1.34     1.98             0.64       1.00\n"
     ]
    }
   ],
   "source": [
    "import itertools\n",
    "import pandas as pd\n",
    "\n",
    "data = [\n",
    "    [1, 1.45, 0.52, 0.72],\n",
    "    [0.7, 1, 0.31, 0.48],\n",
    "    [1.95, 3.1, 1, 1.49],\n",
    "    [1.34, 1.98, 0.64, 1]\n",
    "]\n",
    "\n",
    "labels = [\"Snowballs\", \"Pizza's\", \"Silicon Nuggets\", \"SeaShells\"]\n",
    "\n",
    "df = pd.DataFrame(data, index=labels, columns=labels)\n",
    "\n",
    "\n",
    "print(df)"
   ]
  },
  {
   "cell_type": "code",
   "execution_count": 14,
   "id": "67be9412",
   "metadata": {},
   "outputs": [
    {
     "name": "stdout",
     "output_type": "stream",
     "text": [
      "               Snowballs  Pizza's  Silicon Nuggets  SeaShells\n",
      "SeaShells x 1       1.34     1.98             0.64        1.0\n"
     ]
    }
   ],
   "source": [
    "# TRADE 1\n",
    "\n",
    "first_value = 1 # Is the number of seashells (it is not important)\n",
    "\n",
    "first_trade = pd.DataFrame([df.loc[\"SeaShells\"] * first_value])\n",
    "first_trade.index = [f\"SeaShells x {first_value}\"]\n",
    "\n",
    "print(first_trade)\n"
   ]
  },
  {
   "cell_type": "code",
   "execution_count": 15,
   "id": "a0bb8f89",
   "metadata": {},
   "outputs": [
    {
     "name": "stdout",
     "output_type": "stream",
     "text": [
      "                 Snowballs  Pizza's  Silicon Nuggets  SeaShells\n",
      "Snowballs           1.3400   1.3860           1.2480       1.34\n",
      "Pizza's             1.9430   1.9800           1.9840       1.98\n",
      "Silicon Nuggets     0.6968   0.6138           0.6400       0.64\n",
      "SeaShells           0.9648   0.9504           0.9536       1.00\n"
     ]
    }
   ],
   "source": [
    "# TRADE 2\n",
    "\n",
    "first_trade_rates = first_trade.iloc[0]\n",
    "second_trade = df.T * first_trade_rates\n",
    "print(second_trade)\n",
    "\n",
    "# Nella matrice output sono le quantità di commodity della riga se lo scambi precedente è fatto con la colonna"
   ]
  },
  {
   "cell_type": "code",
   "execution_count": 16,
   "id": "837af367",
   "metadata": {},
   "outputs": [
    {
     "name": "stdout",
     "output_type": "stream",
     "text": [
      "                 Snowballs  Pizza's  Silicon Nuggets  SeaShells\n",
      "Snowballs          1.38600  1.38880         1.358760       1.34\n",
      "Pizza's            2.00970  1.98400         2.160080       1.98\n",
      "Silicon Nuggets    0.72072  0.61504         0.696800       0.64\n",
      "SeaShells          0.99792  0.95232         1.038232       1.00\n"
     ]
    }
   ],
   "source": [
    "# TRADE 3 # Qui per ogni commodity si hanno 4 quantità, quindi va preso il max per ogni riga\n",
    "second_trade_max = second_trade.max(axis=1)\n",
    "third_trade = df.T * second_trade_max\n",
    "print(third_trade)"
   ]
  },
  {
   "cell_type": "code",
   "execution_count": 17,
   "id": "0ca929d4",
   "metadata": {},
   "outputs": [
    {
     "name": "stdout",
     "output_type": "stream",
     "text": [
      "                 Snowballs   Pizza's  Silicon Nuggets  SeaShells\n",
      "Snowballs         1.388800  1.512056         1.405404   1.391231\n",
      "Pizza's           2.013760  2.160080         2.234232   2.055699\n",
      "Silicon Nuggets   0.722176  0.669625         0.720720   0.664468\n",
      "SeaShells         0.999936  1.036838         1.073873   1.038232\n"
     ]
    }
   ],
   "source": [
    "# TRADE 4 \n",
    "third_trade_max = third_trade.max(axis=1)\n",
    "fourth_trade = df.T * third_trade_max\n",
    "print(fourth_trade)"
   ]
  },
  {
   "cell_type": "code",
   "execution_count": 18,
   "id": "3b1e1bf9",
   "metadata": {},
   "outputs": [
    {
     "name": "stdout",
     "output_type": "stream",
     "text": [
      "Snowballs          1.088680\n",
      "Pizza's            1.072431\n",
      "Silicon Nuggets    1.076042\n",
      "SeaShells          1.073873\n",
      "dtype: float64\n"
     ]
    }
   ],
   "source": [
    "# TRADE 5\n",
    "fourth_trade_max = fourth_trade.max(axis=1)\n",
    "seashell_rates = df['SeaShells']\n",
    "\n",
    "final_trade = fourth_trade_max * seashell_rates\n",
    "print(final_trade)\n"
   ]
  }
 ],
 "metadata": {
  "kernelspec": {
   "display_name": "venv_prosperity_3",
   "language": "python",
   "name": "python3"
  },
  "language_info": {
   "codemirror_mode": {
    "name": "ipython",
    "version": 3
   },
   "file_extension": ".py",
   "mimetype": "text/x-python",
   "name": "python",
   "nbconvert_exporter": "python",
   "pygments_lexer": "ipython3",
   "version": "3.12.9"
  }
 },
 "nbformat": 4,
 "nbformat_minor": 5
}
